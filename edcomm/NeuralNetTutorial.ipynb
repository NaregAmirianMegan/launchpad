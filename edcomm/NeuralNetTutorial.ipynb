{
 "cells": [
  {
   "cell_type": "markdown",
   "metadata": {},
   "source": [
    "# Neural Networks with MNIST\n",
    "\n",
    "### In this notebook we build a neural network to predict the value of handwritten digits:\n",
    "<img src=\"https://tensorflow.rstudio.com/tensorflow/articles/images/MNIST.png\"\n",
    "     alt=\"Image Didn't Load\"\n",
    "     style=\"float: left; margin-right: 10px;\" />  \n",
    "<br>\n",
    "<br>\n",
    "<br>\n",
    "<br>\n",
    "<br>\n",
    "<br>\n",
    "\n",
    "\n",
    "\n",
    "### We're going to use a network that looks like this:\n",
    "![](./images/tf_vis.png)  \n",
    "\n",
    "### Network structure\n",
    "We will take in all 28 * 28 pixel values from each image (these are grayscale images so we don't have to worry about color channels). The inputs will be multiplied by the weights of each layer and put through the activation function called ReLU (Rectified Linear Unit). The output will be a probability distribution over ten numbers (0,...,9) indicating the probability that each digit is the number in the image.\n",
    "\n",
    "![](./images/net_vis.png)"
   ]
  },
  {
   "cell_type": "code",
   "execution_count": 18,
   "metadata": {},
   "outputs": [],
   "source": [
    "from __future__ import absolute_import\n",
    "from __future__ import division\n",
    "from __future__ import print_function\n",
    "\n",
    "# import tensorflow\n",
    "import tensorflow as tf\n",
    "# import MNIST (MNIST is a dataset containing correctly labeled images of handwritten numbers)\n",
    "from tensorflow.examples.tutorials.mnist import input_data\n",
    "\n",
    "#import pyplot for visualization\n",
    "import matplotlib.pyplot as plt\n",
    "import numpy as np"
   ]
  },
  {
   "cell_type": "code",
   "execution_count": 19,
   "metadata": {},
   "outputs": [
    {
     "name": "stdout",
     "output_type": "stream",
     "text": [
      "Extracting /tmp/data/train-images-idx3-ubyte.gz\n",
      "Extracting /tmp/data/train-labels-idx1-ubyte.gz\n",
      "Extracting /tmp/data/t10k-images-idx3-ubyte.gz\n",
      "Extracting /tmp/data/t10k-labels-idx1-ubyte.gz\n"
     ]
    }
   ],
   "source": [
    "# Create a variable containing MNIST data\n",
    "# There's more than 30,000 images here \n",
    "# Just imagine the man hours :P\n",
    "mnist = input_data.read_data_sets(\"/tmp/data/\", one_hot=False)\n",
    "# Ignore the warnings :P"
   ]
  },
  {
   "cell_type": "markdown",
   "metadata": {},
   "source": [
    "### Setting hyperparameters \n",
    "This is where we specify how we want our network to \"look\" and behave."
   ]
  },
  {
   "cell_type": "code",
   "execution_count": 31,
   "metadata": {},
   "outputs": [],
   "source": [
    "# How much of a step we take. Higher learning rates means faster learning but less stable performance\n",
    "learning_rate = 0.001 \n",
    "\n",
    "# How many images we are training on at every step. \n",
    "# Remember this is gradient descent so we are gonna take small steps of just 128 images towards the goal\n",
    "batch_size = 128\n",
    "\n",
    "# run 2000 steps\n",
    "n_steps = 200\n",
    "\n",
    "# How many neurons for each layer\n",
    "n_inputs = 28 * 28 # its a 28 by 28 pixel image so input is gonna be 28 * 28\n",
    "n_hidden1 = 300\n",
    "n_hidden2 = 100\n",
    "n_output = 10 # output is probabilities of the image being a particular number"
   ]
  },
  {
   "cell_type": "markdown",
   "metadata": {},
   "source": [
    "### Placeholders\n",
    "In a tensorflow graph we create placeholders which upon running the graph will contain our input and output data (i.e. images and associated digits each one represents)."
   ]
  },
  {
   "cell_type": "code",
   "execution_count": 21,
   "metadata": {},
   "outputs": [],
   "source": [
    "# create placeholders\n",
    "# this is where we will feed in the images and the labels\n",
    "# x is where we will feed in the image\n",
    "x = tf.placeholder(tf.float32, shape=(None, n_inputs), name=\"X\")\n",
    "\n",
    "# y is where we will feed in the label for the corresponding image\n",
    "# i.e. if the image is a 3, y is 3\n",
    "y = tf.placeholder(tf.int64, shape=None, name=\"y\")"
   ]
  },
  {
   "cell_type": "markdown",
   "metadata": {},
   "source": [
    "### Constructing the actual network\n",
    "After the input layer we have three more layers: hidden layer 1, hidden layer 2, and the output layer. Here we will use tf.layers.dense(inputs, units, activation) -- <b>inputs</b> is the input to the layer, <b>units</b> is the number of nodes in that layer, and <b>activation</b> is the activation function applied in that layer (no activation if left blank). Remember that we want to use the ReLU function (https://machinelearningmastery.com/rectified-linear-activation-function-for-deep-learning-neural-networks/). \n",
    "<br>\n",
    "<b>ReLU</b>:\n",
    "\n",
    "<img src=\"https://3qeqpr26caki16dnhd19sv6by6v-wpengine.netdna-ssl.com/wp-content/uploads/2018/10/Line-Plot-of-Rectified-Linear-Activation-for-Negative-and-Positive-Inputs.png\"\n",
    "     alt=\"Image Didn't Load\"/>"
   ]
  },
  {
   "cell_type": "code",
   "execution_count": 22,
   "metadata": {},
   "outputs": [],
   "source": [
    "# create the neural network\n",
    "# hidden1 layer takes in our image input (x)\n",
    "# we will be using the relu activation function\n",
    "\n",
    "hidden1_layer = tf.layers.dense(x, n_hidden1, activation=tf.nn.relu)\n",
    "hidden2_layer = tf.layers.dense(hidden1_layer, n_hidden2, activation=tf.nn.relu)\n",
    "output_layer = tf.layers.dense(hidden2_layer, n_output)\n",
    "\n",
    "# if you get some weird error about reuse, restart the kernel\n",
    "\n",
    "# for more about activation functions:\n",
    "# https://towardsdatascience.com/activation-functions-and-its-types-which-is-better-a9a5310cc8f"
   ]
  },
  {
   "cell_type": "markdown",
   "metadata": {},
   "source": [
    "### Loss\n",
    "Here we will be using cross entropy get our error which is a way to determine how close our probability distribution is to the ground truth probability distribution (i.e. a one-hot vector with the one in index corresponding to the correct digit of the related image). We then want to reduce our error over each element in the batch to one error. More on cross entropy: https://jamesmccaffrey.wordpress.com/2013/11/05/why-you-should-use-cross-entropy-error-instead-of-classification-error-or-mean-squared-error-for-neural-network-classifier-training/. \n",
    "\n",
    "<br>\n",
    "<b>Cross Entropy:</b><br>\n",
    "p(x) is 0 or 1 indicating the correct \"class\" or not; q(x) is our predicted probability; for each x in (0,...,9)\n",
    "<img src=\"http://4.bp.blogspot.com/-O5gRO-nJIQc/WacXCgSMdxI/AAAAAAAA6Gw/ReT-cKX0MM0BYiDXJ9JJ_WFBzcBluvgqwCK4BGAYYCw/s1600/cross%2Bentropy.png\"\n",
    "     alt=\"Image Didn't Load\"/>"
   ]
  },
  {
   "cell_type": "code",
   "execution_count": 23,
   "metadata": {},
   "outputs": [],
   "source": [
    "# training\n",
    "# instead of using squared error like the 3Blue1Brown video, we use cross entropy error\n",
    "cross_entropy = tf.nn.sparse_softmax_cross_entropy_with_logits(labels=y, logits=output_layer)\n",
    "\n",
    "# add up all the error with reduce_mean\n",
    "loss = tf.reduce_mean(cross_entropy)"
   ]
  },
  {
   "cell_type": "markdown",
   "metadata": {},
   "source": [
    "### Setting up the training operations"
   ]
  },
  {
   "cell_type": "code",
   "execution_count": 24,
   "metadata": {},
   "outputs": [],
   "source": [
    "# we will use Adam Optimizer to do all the backpropagation heavy lifting for us\n",
    "optimizer = tf.train.AdamOptimizer(learning_rate=learning_rate)\n",
    "\n",
    "# create an operator that we can call on to minimize loss\n",
    "training_op = optimizer.minimize(loss)"
   ]
  },
  {
   "cell_type": "code",
   "execution_count": 25,
   "metadata": {},
   "outputs": [],
   "source": [
    "# create operators for evaluating the network\n",
    "with tf.name_scope(\"eval\"):\n",
    "    # correct variable is the number of correct labels\n",
    "    correct = tf.nn.in_top_k(output_layer, y, 1)\n",
    "    # count up the number of correct labels\n",
    "    accuracy = tf.reduce_mean(tf.cast(correct, tf.float32))"
   ]
  },
  {
   "cell_type": "markdown",
   "metadata": {},
   "source": [
    "### Setting up the session and running the graph\n",
    "Now that we have our data, network, hyperparameters, etc... we want to actually train the network so it outputs values that are correct. "
   ]
  },
  {
   "cell_type": "code",
   "execution_count": 32,
   "metadata": {},
   "outputs": [
    {
     "name": "stdout",
     "output_type": "stream",
     "text": [
      "0 Test accuracy: 0.189\n",
      "50 Test accuracy: 0.8958\n",
      "100 Test accuracy: 0.9249\n",
      "150 Test accuracy: 0.937\n"
     ]
    }
   ],
   "source": [
    "# creates a tensorflow session\n",
    "# the session will keep all of our values and current state of the network\n",
    "sess = tf.Session()\n",
    "    \n",
    "# first initialize the values in the network\n",
    "tf.global_variables_initializer().run(session=sess)\n",
    "\n",
    "for step in range(n_steps):\n",
    "    # creates a batch of images and labels\n",
    "    x_batch, y_batch = mnist.train.next_batch(batch_size)\n",
    "\n",
    "    # feed in the batch of images and batch of labels\n",
    "    # and run the training operator on them\n",
    "    sess.run(training_op, feed_dict={x: x_batch, y: y_batch})\n",
    "\n",
    "    # feed in the test images and the test labels (which the network has never seen)\n",
    "    # and evaluate the accuracy\n",
    "    accuracy_val = sess.run(accuracy, feed_dict={x: mnist.test.images, y: mnist.test.labels})\n",
    "\n",
    "    if step % 50 == 0:\n",
    "        print(step, \"Test accuracy:\", accuracy_val)\n",
    "\n",
    "\n"
   ]
  },
  {
   "cell_type": "code",
   "execution_count": 47,
   "metadata": {},
   "outputs": [
    {
     "data": {
      "text/plain": [
       "<matplotlib.image.AxesImage at 0x12683a748>"
      ]
     },
     "execution_count": 47,
     "metadata": {},
     "output_type": "execute_result"
    },
    {
     "data": {
      "image/png": "[encoded data removed]",
      "text/plain": [
       "<Figure size 432x288 with 1 Axes>"
      ]
     },
     "metadata": {
      "needs_background": "light"
     },
     "output_type": "display_data"
    }
   ],
   "source": [
    "def softmax(x):\n",
    "    e_x = np.exp(x - np.max(x))\n",
    "    return e_x / e_x.sum()\n",
    "\n",
    "#get visualization\n",
    "image = mnist.train.next_batch(1)[0]\n",
    "plt.imshow(np.reshape(image, (28, 28)))"
   ]
  },
  {
   "cell_type": "code",
   "execution_count": 48,
   "metadata": {},
   "outputs": [
    {
     "name": "stdout",
     "output_type": "stream",
     "text": [
      "[9.2036906e-05 5.9247399e-05 4.0936747e-04 6.6588619e-03 3.8132450e-06\n",
      " 1.5065038e-04 3.9823124e-07 9.8992854e-01 9.8589226e-05 2.5985767e-03]\n"
     ]
    },
    {
     "data": {
      "image/png": "[encoded data removed]",
      "text/plain": [
       "<Figure size 432x288 with 1 Axes>"
      ]
     },
     "metadata": {
      "needs_background": "light"
     },
     "output_type": "display_data"
    }
   ],
   "source": [
    "#show bar plot of probabilites\n",
    "probs = softmax(sess.run(output_layer, feed_dict={x: image})[0])\n",
    "print(probs)\n",
    "x_pos = [i for i, _ in enumerate(probs)]\n",
    "plt.bar(x_pos, probs, 1)\n",
    "plt.show()"
   ]
  },
  {
   "cell_type": "code",
   "execution_count": null,
   "metadata": {},
   "outputs": [],
   "source": [
    "#close session\n",
    "sess.close()"
   ]
  }
 ],
 "metadata": {
  "kernelspec": {
   "display_name": "Python 3",
   "language": "python",
   "name": "python3"
  },
  "language_info": {
   "codemirror_mode": {
    "name": "ipython",
    "version": 3
   },
   "file_extension": ".py",
   "mimetype": "text/x-python",
   "name": "python",
   "nbconvert_exporter": "python",
   "pygments_lexer": "ipython3",
   "version": "3.6.6"
  }
 },
 "nbformat": 4,
 "nbformat_minor": 2
}
